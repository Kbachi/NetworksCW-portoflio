{
 "cells": [
  {
   "cell_type": "code",
   "execution_count": 1,
   "metadata": {},
   "outputs": [
    {
     "name": "stdout",
     "output_type": "stream",
     "text": [
      "Hello, World!\n",
      "\n"
     ]
    }
   ],
   "source": [
    "import random\n",
    "print(\"Hello, World!\\n\")\n"
   ]
  },
  {
   "cell_type": "code",
   "execution_count": 2,
   "metadata": {},
   "outputs": [
    {
     "name": "stdout",
     "output_type": "stream",
     "text": [
      "Addition Result: 15 \n",
      "\n"
     ]
    }
   ],
   "source": [
    "\n",
    "# Addition\n",
    "def add_numbers(a, b):\n",
    "    return a + b\n",
    "\n",
    "result = add_numbers(10, 5)\n",
    "print(\"Addition Result:\", result, \"\\n\")\n"
   ]
  },
  {
   "cell_type": "code",
   "execution_count": 3,
   "metadata": {},
   "outputs": [
    {
     "name": "stdout",
     "output_type": "stream",
     "text": [
      "Subtraction Result: 10 \n",
      "\n"
     ]
    }
   ],
   "source": [
    "\n",
    "# Subtraction\n",
    "def subtract_numbers(a, b):\n",
    "    return a - b\n",
    "\n",
    "result = subtract_numbers(15, 5)\n",
    "print(\"Subtraction Result:\", result, \"\\n\")\n"
   ]
  },
  {
   "cell_type": "code",
   "execution_count": 4,
   "metadata": {},
   "outputs": [
    {
     "name": "stdout",
     "output_type": "stream",
     "text": [
      "Multiplication Result: 75 \n",
      "\n"
     ]
    }
   ],
   "source": [
    "\n",
    "# Multiplication\n",
    "def multiply_numbers(a, b):\n",
    "    return a * b\n",
    "\n",
    "result = multiply_numbers(15, 5)\n",
    "print(\"Multiplication Result:\", result, \"\\n\")\n"
   ]
  },
  {
   "cell_type": "code",
   "execution_count": 5,
   "metadata": {},
   "outputs": [
    {
     "name": "stdout",
     "output_type": "stream",
     "text": [
      "Division Result: 3.0 \n",
      "\n",
      "Remainder Result: 0 \n",
      "\n",
      "Power Result: 759375 \n",
      "\n"
     ]
    }
   ],
   "source": [
    "\n",
    "# Division\n",
    "def divide_numbers(a, b):\n",
    "    if b != 0:\n",
    "        return a / b\n",
    "    else:\n",
    "        return \"Division by zero is not allowed\"\n",
    "\n",
    "result = divide_numbers(15, 5)\n",
    "print(\"Division Result:\", result, \"\\n\")\n",
    "\n",
    "# Remainder\n",
    "def remainder_numbers(a, b):\n",
    "    return a % b\n",
    "\n",
    "result = remainder_numbers(15, 5)\n",
    "print(\"Remainder Result:\", result, \"\\n\")\n",
    "\n",
    "# Power\n",
    "def power_numbers(a, b):\n",
    "    return a ** b\n",
    "\n",
    "result = power_numbers(15, 5)\n",
    "print(\"Power Result:\", result, \"\\n\")\n"
   ]
  },
  {
   "cell_type": "code",
   "execution_count": 6,
   "metadata": {},
   "outputs": [
    {
     "name": "stdout",
     "output_type": "stream",
     "text": [
      "List of fruits: ['lychee', 'mango', 'coconut', 'Date', 'caruba'] \n",
      "\n",
      "Tuple of animals: ('bear', 'sugarglider', 'wolf') \n",
      "\n"
     ]
    }
   ],
   "source": [
    "\n",
    "# Data Types\n",
    "# list\n",
    "fruits = [\"lychee\", \"mango\", \"coconut\", \"Date\", \"caruba\"]\n",
    "print(\"List of fruits:\", fruits, \"\\n\")\n",
    "\n",
    "# tuple\n",
    "animals = (\"bear\", \"sugarglider\", \"wolf\")\n",
    "print(\"Tuple of animals:\", animals, \"\\n\")\n"
   ]
  },
  {
   "cell_type": "code",
   "execution_count": 7,
   "metadata": {},
   "outputs": [
    {
     "name": "stdout",
     "output_type": "stream",
     "text": [
      "Dictionary of programming languages: {'Python': 1991, 'Java': 1995, 'JavaScript': 1995} \n",
      "\n"
     ]
    }
   ],
   "source": [
    "\n",
    "# dictionary\n",
    "languages = {\n",
    "    \"Python\": 1991,\n",
    "    \"Java\": 1995,\n",
    "    \"JavaScript\": 1995\n",
    "}\n",
    "print(\"Dictionary of programming languages:\", languages, \"\\n\")\n"
   ]
  },
  {
   "cell_type": "code",
   "execution_count": 8,
   "metadata": {},
   "outputs": [
    {
     "name": "stdout",
     "output_type": "stream",
     "text": [
      "Set of colours: {'red', 'blue', 'purple'} \n",
      "\n"
     ]
    }
   ],
   "source": [
    "\n",
    "# set\n",
    "colours = {\"purple\", \"red\", \"blue\"}\n",
    "print(\"Set of colours:\", colours, \"\\n\")\n"
   ]
  },
  {
   "cell_type": "code",
   "execution_count": 9,
   "metadata": {},
   "outputs": [
    {
     "name": "stdout",
     "output_type": "stream",
     "text": [
      "String sentence: Python is easy to learn. \n",
      "\n"
     ]
    }
   ],
   "source": [
    "\n",
    "# string\n",
    "sentence = \"Python is easy to learn.\"\n",
    "print(\"String sentence:\", sentence, \"\\n\")\n"
   ]
  },
  {
   "cell_type": "code",
   "execution_count": 10,
   "metadata": {},
   "outputs": [
    {
     "name": "stdout",
     "output_type": "stream",
     "text": [
      "The number is positive.\n",
      "\n"
     ]
    }
   ],
   "source": [
    "\n",
    "# checks for pos or negative\n",
    "number = float(input(\"Enter a number: \"))\n",
    "if number > 0:\n",
    "    print(\"The number is positive.\\n\")\n",
    "elif number < 0:\n",
    "    print(\"The number is negative.\\n\")\n",
    "else:\n",
    "    print(\"The number is zero.\\n\")\n"
   ]
  },
  {
   "cell_type": "code",
   "execution_count": 11,
   "metadata": {},
   "outputs": [
    {
     "name": "stdout",
     "output_type": "stream",
     "text": [
      "The string starts with a consonant.\n",
      "\n"
     ]
    }
   ],
   "source": [
    "\n",
    "# Script to check if a string starts with a vowel or consonant\n",
    "string = input(\"Enter a string: \").lower()\n",
    "if string[0] in 'aeiou':\n",
    "    print(\"The string starts with a vowel.\\n\")\n",
    "else:\n",
    "    print(\"The string starts with a consonant.\\n\")\n"
   ]
  },
  {
   "cell_type": "code",
   "execution_count": 12,
   "metadata": {},
   "outputs": [
    {
     "name": "stdout",
     "output_type": "stream",
     "text": [
      "The numbers are not equal.\n",
      "\n"
     ]
    }
   ],
   "source": [
    "\n",
    "# Script to check if equal\n",
    "num1 = float(input(\"Enter the first number: \"))\n",
    "num2 = float(input(\"Enter the second number: \"))\n",
    "if num1 == num2:\n",
    "    print(\"The numbers are equal.\\n\")\n",
    "else:\n",
    "    print(\"The numbers are not equal.\\n\")\n"
   ]
  },
  {
   "cell_type": "code",
   "execution_count": 13,
   "metadata": {},
   "outputs": [
    {
     "name": "stdout",
     "output_type": "stream",
     "text": [
      "1\n",
      "2\n",
      "3\n",
      "4\n",
      "5\n",
      "6\n",
      "7\n",
      "8\n",
      "9\n",
      "10\n",
      "\n",
      "2\n",
      "4\n",
      "6\n",
      "8\n",
      "10\n",
      "\n"
     ]
    }
   ],
   "source": [
    "\n",
    "# Loops\n",
    "\n",
    "# for loop\n",
    "for i in range(1, 11):\n",
    "    print(i)\n",
    "print()\n",
    "\n",
    "# \n",
    "for i in range(2, 11, 2):\n",
    "    print(i)\n",
    "print()\n"
   ]
  },
  {
   "cell_type": "code",
   "execution_count": 14,
   "metadata": {},
   "outputs": [
    {
     "name": "stdout",
     "output_type": "stream",
     "text": [
      "0 1 1 2 3 \n",
      "\n"
     ]
    }
   ],
   "source": [
    "\n",
    "# Script to print the first 5 numbers of the Fibonacci sequence using a while loop\n",
    "a, b = 0, 1\n",
    "count = 0\n",
    "while count < 5:\n",
    "    print(a, end=\" \")\n",
    "    temp = a\n",
    "    a = b\n",
    "    b = temp + b\n",
    "    count += 1\n",
    "print(\"\\n\")\n"
   ]
  },
  {
   "cell_type": "code",
   "execution_count": 15,
   "metadata": {},
   "outputs": [],
   "source": [
    "\n",
    "# Functions\n",
    "\n",
    "# Function that takes two numbers as parameters and returns their sum\n",
    "def sum_numbers(a, b):\n",
    "    return a + b\n"
   ]
  },
  {
   "cell_type": "code",
   "execution_count": 16,
   "metadata": {},
   "outputs": [],
   "source": [
    "\n",
    "# largest number in list\n",
    "def largest_number(numbers):\n",
    "    return max(numbers)\n"
   ]
  },
  {
   "cell_type": "code",
   "execution_count": 17,
   "metadata": {},
   "outputs": [],
   "source": [
    "\n",
    "# Function returns the number of vowels in the string\n",
    "def count_vowels(string):\n",
    "    vowels = 'aeiou'\n",
    "    return sum(1 for char in string.lower() if char in vowels)\n"
   ]
  },
  {
   "cell_type": "code",
   "execution_count": 18,
   "metadata": {},
   "outputs": [
    {
     "name": "stdout",
     "output_type": "stream",
     "text": [
      "Password must include at least one uppercase letter. \n",
      "\n"
     ]
    }
   ],
   "source": [
    "\n",
    "# Password strength checker\n",
    "def check_password_strength(password):\n",
    "    special_characters = \"!@#$%^&*()-+\"\n",
    "    if len(password) < 8:\n",
    "        return \"Password must be at least 8 characters long.\"\n",
    "    if not any(char.isupper() for char in password):\n",
    "        return \"Password must include at least one uppercase letter.\"\n",
    "    if not any(char.islower() for char in password):\n",
    "        return \"Password must include at least one lowercase letter.\"\n",
    "    if not any(char.isdigit() for char in password):\n",
    "        return \"Password must include at least one digit.\"\n",
    "    if not any(char in special_characters for char in password):\n",
    "        return \"Password must include at least one special character.\"\n",
    "    return \"Password is strong and secure.\"\n",
    "\n",
    "\n",
    "password = input(\"Enter a password: \")\n",
    "print(check_password_strength(password), \"\\n\")\n"
   ]
  },
  {
   "cell_type": "code",
   "execution_count": 19,
   "metadata": {},
   "outputs": [
    {
     "ename": "ValueError",
     "evalue": "invalid literal for int() with base 10: 'h'",
     "output_type": "error",
     "traceback": [
      "\u001b[1;31m---------------------------------------------------------------------------\u001b[0m",
      "\u001b[1;31mValueError\u001b[0m                                Traceback (most recent call last)",
      "Cell \u001b[1;32mIn[19], line 19\u001b[0m\n\u001b[0;32m     17\u001b[0m \u001b[38;5;66;03m# Example \u001b[39;00m\n\u001b[0;32m     18\u001b[0m message \u001b[38;5;241m=\u001b[39m \u001b[38;5;28minput\u001b[39m(\u001b[38;5;124m\"\u001b[39m\u001b[38;5;124mEnter a message: \u001b[39m\u001b[38;5;124m\"\u001b[39m)\n\u001b[1;32m---> 19\u001b[0m key \u001b[38;5;241m=\u001b[39m \u001b[38;5;28mint\u001b[39m(\u001b[38;5;28minput\u001b[39m(\u001b[38;5;124m\"\u001b[39m\u001b[38;5;124mEnter a key: \u001b[39m\u001b[38;5;124m\"\u001b[39m))\n\u001b[0;32m     20\u001b[0m mode \u001b[38;5;241m=\u001b[39m \u001b[38;5;28minput\u001b[39m(\u001b[38;5;124m\"\u001b[39m\u001b[38;5;124mEnter mode (encrypt/decrypt): \u001b[39m\u001b[38;5;124m\"\u001b[39m)\u001b[38;5;241m.\u001b[39mlower()\n\u001b[0;32m     21\u001b[0m \u001b[38;5;28mprint\u001b[39m(caesar_cipher(message, key, mode), \u001b[38;5;124m\"\u001b[39m\u001b[38;5;130;01m\\n\u001b[39;00m\u001b[38;5;124m\"\u001b[39m)\n",
      "\u001b[1;31mValueError\u001b[0m: invalid literal for int() with base 10: 'h'"
     ]
    }
   ],
   "source": [
    "\n",
    "# Caesar Cipher\n",
    "\n",
    "def caesar_cipher(message, key, mode):\n",
    "    result = \"\"\n",
    "    for char in message:\n",
    "        if char.isalpha():\n",
    "            shift = key if mode == \"encrypt\" else -key\n",
    "            shifted = ord(char) + shift\n",
    "            if char.isupper():\n",
    "                result += chr((shifted - 65) % 26 + 65)\n",
    "            else:\n",
    "                result += chr((shifted - 97) % 26 + 97)\n",
    "        else:\n",
    "            result += char.upper() if mode == \"encrypt\" else char.lower()\n",
    "    return result\n",
    "\n",
    "# Example \n",
    "message = input(\"Enter a message: \")\n",
    "key = int(input(\"Enter a key: \"))\n",
    "mode = input(\"Enter mode (encrypt/decrypt): \").lower()\n",
    "print(caesar_cipher(message, key, mode), \"\\n\")\n"
   ]
  },
  {
   "cell_type": "code",
   "execution_count": null,
   "metadata": {},
   "outputs": [],
   "source": [
    "\n",
    "\n",
    "def hangman_game(word_list, max_guesses):\n",
    "    word = random.choice(word_list)\n",
    "    guessed_word = [\"_\"] * len(word)\n",
    "    guessed_letters = set()\n",
    "    incorrect_guesses = 0\n",
    "\n",
    "    print(\"Welcome to Hangman!\")\n",
    "    print(\" \".join(guessed_word), \"\\n\")\n",
    "\n",
    "    while incorrect_guesses < max_guesses and \"_\" in guessed_word:\n",
    "        guess = input(\"Guess a letter: \").lower()\n",
    "        \n",
    "        if guess in guessed_letters:\n",
    "            print(\"You already guessed that letter. Try again.\\n\")\n",
    "            continue\n",
    "        \n",
    "        guessed_letters.add(guess)\n",
    "        \n",
    "        if guess in word:\n",
    "            for i, letter in enumerate(word):\n",
    "                if letter == guess:\n",
    "                    guessed_word[i] = guess\n",
    "            print(\"Correct guess!\\n\")\n",
    "        else:\n",
    "            incorrect_guesses += 1\n",
    "            print(f\"Incorrect guess! You have {max_guesses - incorrect_guesses} guesses left.\\n\")\n",
    "        \n",
    "        print(\" \".join(guessed_word), \"\\n\")\n",
    "    \n",
    "    if \"_\" not in guessed_word:\n",
    "        print(f\"Congratulations, you guessed the word '{word}'!\\n\")\n",
    "    else:\n",
    "        print(f\"Game over! The word was '{word}'.\\n\")\n",
    "\n",
    "# Example \n",
    "word_list = [\"cobra\", \"javeline\", \"scroll\"]\n",
    "max_guesses = 6\n",
    "hangman_game(word_list, max_guesses)"
   ]
  },
  {
   "cell_type": "code",
   "execution_count": null,
   "metadata": {},
   "outputs": [],
   "source": []
  }
 ],
 "metadata": {
  "kernelspec": {
   "display_name": "base",
   "language": "python",
   "name": "python3"
  },
  "language_info": {
   "codemirror_mode": {
    "name": "ipython",
    "version": 3
   },
   "file_extension": ".py",
   "mimetype": "text/x-python",
   "name": "python",
   "nbconvert_exporter": "python",
   "pygments_lexer": "ipython3",
   "version": "3.12.7"
  }
 },
 "nbformat": 4,
 "nbformat_minor": 2
}
