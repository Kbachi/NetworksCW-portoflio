{
 "cells": [
  {
   "cell_type": "code",
   "execution_count": null,
   "metadata": {},
   "outputs": [],
   "source": [
    "import socket \n",
    "\n",
    "client_socket = socket.socket(socket.AF_INET, socket.SOCK_DGRAM) \n",
    "server_address = ('localhost', 65433) \n",
    "\n",
    "while True:\n",
    "    # Allow the user to input the message\n",
    "    message = input(\"Enter the message to send (or type 'exit' to quit): \")\n",
    "    \n",
    "    if message.lower() == 'exit':  # Exit condition\n",
    "        print(\"Exiting...\")\n",
    "        break\n",
    "\n",
    "    # Send the message to the server\n",
    "    client_socket.sendto(message.encode(), server_address) \n",
    "\n",
    "    # Receive confirmation from the server\n",
    "    confirmation, _ = client_socket.recvfrom(1024)  #\n",
    "    print(\"Server confirmation:\", confirmation.decode())\n",
    "\n",
    "client_socket.close()\n"
   ]
  },
  {
   "cell_type": "code",
   "execution_count": null,
   "metadata": {},
   "outputs": [],
   "source": [
    "import socket \n",
    "\n",
    "client_socket = socket.socket(socket.AF_INET, socket.SOCK_DGRAM) \n",
    "server_address = ('localhost', 65433) \n",
    "\n",
    "while True:\n",
    "    # Allow the user to input the message\n",
    "    message = input(\"Enter the message to send (or type 'exit' to quit): \")\n",
    "    \n",
    "    if message.lower() == 'exit':  # Exit condition\n",
    "        print(\"Exiting...\")\n",
    "        break\n",
    "\n",
    "    # Send the message to the server\n",
    "    client_socket.sendto(message.encode(), server_address) \n",
    "\n",
    "client_socket.close()\n"
   ]
  }
 ],
 "metadata": {
  "language_info": {
   "name": "python"
  }
 },
 "nbformat": 4,
 "nbformat_minor": 2
}
