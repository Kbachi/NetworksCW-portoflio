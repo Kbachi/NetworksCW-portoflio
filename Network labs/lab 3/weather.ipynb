{
 "cells": [
  {
   "cell_type": "code",
   "execution_count": null,
   "metadata": {},
   "outputs": [],
   "source": [
    "import socket\n",
    "import requests\n",
    "\n",
    "# Function to fetch weather data from Open-Meteo API\n",
    "def fetch_weather_data():\n",
    "    api_url1 = \"https://api.open-meteo.com/v1/forecast?latitude=51.4742&longitude=-0.0355&current_weather=true\"  # Goldsmiths University\n",
    "    api_url2 = \"https://api.open-meteo.com/v1/forecast?latitude=51.5299&longitude=-0.1278&current_weather=true\"  # British Library\n",
    "    \n",
    "    response1 = requests.get(api_url1)\n",
    "    response2 = requests.get(api_url2)\n",
    "    \n",
    "    if response1.status_code == 200 and response2.status_code == 200:\n",
    "        weather_data1 = response1.json()\n",
    "        weather_data2 = response2.json()\n",
    "        temp1 = weather_data1[\"current_weather\"][\"temperature\"]\n",
    "        wind_speed1 = weather_data1[\"current_weather\"][\"windspeed\"]\n",
    "        condition1 = weather_data1[\"current_weather\"][\"weathercode\"]\n",
    "        \n",
    "        temp2 = weather_data2[\"current_weather\"][\"temperature\"]\n",
    "        wind_speed2 = weather_data2[\"current_weather\"][\"windspeed\"]\n",
    "        condition2 = weather_data2[\"current_weather\"][\"weathercode\"]\n",
    "        \n",
    "        message = (f\"Goldsmiths University - Temp: {temp1}°C, Wind Speed: {wind_speed1} km/h, Condition Code: {condition1}\\n\"\n",
    "                   f\"British Library - Temp: {temp2}°C, Wind Speed: {wind_speed2} km/h, Condition Code: {condition2}\")\n",
    "    else:\n",
    "        message = \"Failed to fetch weather data\"\n",
    "    \n",
    "    return message\n",
    "\n",
    "# Function to send weather data via UDP\n",
    "def send_weather_data():\n",
    "    message = fetch_weather_data()\n",
    "    client_socket = socket.socket(socket.AF_INET, socket.SOCK_DGRAM)\n",
    "    server_address = ('localhost', 65433)\n",
    "    client_socket.sendto(message.encode(), server_address)\n",
    "    print(\"Weather data sent!\")\n",
    "    client_socket.close()\n",
    "\n",
    "send_weather_data()\n"
   ]
  }
 ],
 "metadata": {
  "language_info": {
   "name": "python"
  }
 },
 "nbformat": 4,
 "nbformat_minor": 2
}
