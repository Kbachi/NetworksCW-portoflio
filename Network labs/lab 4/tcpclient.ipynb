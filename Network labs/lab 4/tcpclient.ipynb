{
 "cells": [
  {
   "cell_type": "code",
   "execution_count": null,
   "metadata": {},
   "outputs": [],
   "source": [
    "import socket\n",
    "import datetime\n",
    "\n",
    "# Create a TCP socket\n",
    "client_socket = socket.socket(socket.AF_INET, socket.SOCK_STREAM)\n",
    "\n",
    "# Connect to the server\n",
    "client_socket.connect(('localhost', 65432))\n",
    "\n",
    "# Record the start time\n",
    "start_time = datetime.datetime.now()\n",
    "\n",
    "# Open the file to send\n",
    "file_name = 'file_to_send.txt'  # Make sure this file exists in the same folder\n",
    "with open(file_name, 'rb') as f:\n",
    "    # Send the file in chunks\n",
    "    chunk = f.read(1024)\n",
    "    while chunk:\n",
    "        client_socket.send(chunk)\n",
    "        chunk = f.read(1024)\n",
    "\n",
    "# Record the end time\n",
    "end_time = datetime.datetime.now()\n",
    "\n",
    "# Calculate the time taken for file transfer\n",
    "time_taken = end_time - start_time\n",
    "print(f\"Time taken to send the file: {time_taken}\")\n",
    "\n",
    "# Receive the server response\n",
    "response = client_socket.recv(1024)\n",
    "print(f\"Server response: {response.decode()}\")\n",
    "\n",
    "# Close the client socket\n",
    "client_socket.close()\n"
   ]
  }
 ],
 "metadata": {
  "language_info": {
   "name": "python"
  }
 },
 "nbformat": 4,
 "nbformat_minor": 2
}
