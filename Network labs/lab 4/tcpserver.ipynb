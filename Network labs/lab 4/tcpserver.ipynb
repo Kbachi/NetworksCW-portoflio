{
 "cells": [
  {
   "cell_type": "code",
   "execution_count": null,
   "metadata": {},
   "outputs": [],
   "source": [
    "import socket\n",
    "\n",
    "def tcp_server():\n",
    "    server_socket = socket.socket(socket.AF_INET, socket.SOCK_STREAM)\n",
    "    server_socket.bind(('localhost', 65432))\n",
    "    server_socket.listen(5)  # Allow multiple pending connections\n",
    "    print(\"TCP Server is listening...\")\n",
    "    \n",
    "    while True:\n",
    "        client_socket, client_address = server_socket.accept()\n",
    "        print(f\"Connected to {client_address}\")\n",
    "        \n",
    "        with open('received_file.txt', 'wb') as f:\n",
    "            while True:\n",
    "                data = client_socket.recv(1024)\n",
    "                if not data:\n",
    "                    break\n",
    "                f.write(data)\n",
    "        \n",
    "        print(\"File received!\")\n",
    "        client_socket.close()\n",
    "\n",
    "def udp_server():\n",
    "    udp_socket = socket.socket(socket.AF_INET, socket.SOCK_DGRAM)\n",
    "    udp_socket.bind(('localhost', 65432))\n",
    "    print(\"UDP Server is listening...\")\n",
    "    \n",
    "    with open('received_file.txt', 'wb') as f:\n",
    "        while True:\n",
    "            data, client_address = udp_socket.recvfrom(1024)\n",
    "            if not data:\n",
    "                break\n",
    "            f.write(data)\n",
    "            print(f\"Received file data from {client_address}\")\n",
    "\n",
    "if __name__ == \"__main__\":\n",
    "    protocol = input(\"Choose protocol (TCP/UDP): \").strip().lower()\n",
    "    if protocol == \"tcp\":\n",
    "        tcp_server()\n",
    "    elif protocol == \"udp\":\n",
    "        udp_server()\n",
    "    else:\n",
    "        print(\"Invalid choice. Please choose TCP or UDP.\")\n"
   ]
  }
 ],
 "metadata": {
  "kernelspec": {
   "display_name": "base",
   "language": "python",
   "name": "python3"
  },
  "language_info": {
   "name": "python",
   "version": "3.12.7"
  }
 },
 "nbformat": 4,
 "nbformat_minor": 2
}
