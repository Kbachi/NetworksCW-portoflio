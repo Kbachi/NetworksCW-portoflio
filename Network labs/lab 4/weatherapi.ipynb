{
 "cells": [
  {
   "cell_type": "code",
   "execution_count": 1,
   "metadata": {},
   "outputs": [
    {
     "name": "stdout",
     "output_type": "stream",
     "text": [
      "Server running...\n",
      "Connected to ('127.0.0.1', 64292)\n",
      "Received Weather Info: Goldsmiths University - Temp: 12.1°C, Wind Speed: 5.2 km/h, Condition Code: 1\n"
     ]
    }
   ],
   "source": [
    "import socket\n",
    "import requests\n",
    "import threading\n",
    "\n",
    "# Function to fetch weather data from Open-Meteo API\n",
    "def fetch_weather_data():\n",
    "    try:\n",
    "        response = requests.get(\"https://api.open-meteo.com/v1/forecast?latitude=51.4742&longitude=-0.0355&current_weather=true\")\n",
    "        if response.status_code == 200:\n",
    "            data = response.json()\n",
    "            weather_data = data[\"current_weather\"] if \"current_weather\" in data else {}\n",
    "            temperature = weather_data[\"temperature\"] if \"temperature\" in weather_data else \"N/A\"\n",
    "            wind_speed = weather_data[\"windspeed\"] if \"windspeed\" in weather_data else \"N/A\"\n",
    "            condition = weather_data[\"weathercode\"] if \"weathercode\" in weather_data else \"N/A\"\n",
    "            return f\"Goldsmiths University - Temp: {temperature}°C, Wind Speed: {wind_speed} km/h, Condition Code: {condition}\"\n",
    "        else:\n",
    "            return \"Failed to fetch weather data\"\n",
    "    except:\n",
    "        return \"Error occurred while fetching weather data\"\n",
    "\n",
    "# TCP Server - Handles incoming weather data requests\n",
    "def tcp_server():\n",
    "    s = socket.socket(socket.AF_INET, socket.SOCK_STREAM)\n",
    "    s.bind(('localhost', 65436))\n",
    "    s.listen(5)\n",
    "    print(\"Server running...\")\n",
    "    while True:\n",
    "        c, addr = s.accept()\n",
    "        print(f\"Connected to {addr}\")\n",
    "        c.send(fetch_weather_data().encode())\n",
    "        c.close()\n",
    "\n",
    "# Run server in a separate thread\n",
    "threading.Thread(target=tcp_server, daemon=True).start()\n",
    "\n",
    "# TCP Client - Requests weather data\n",
    "def tcp_client():\n",
    "    s = socket.socket(socket.AF_INET, socket.SOCK_STREAM)\n",
    "    s.connect(('localhost', 65436))\n",
    "    print(\"Received Weather Info: \" + s.recv(1024).decode())\n",
    "    s.close()\n",
    "\n",
    "# Example usage\n",
    "tcp_client()\n"
   ]
  }
 ],
 "metadata": {
  "kernelspec": {
   "display_name": "base",
   "language": "python",
   "name": "python3"
  },
  "language_info": {
   "codemirror_mode": {
    "name": "ipython",
    "version": 3
   },
   "file_extension": ".py",
   "mimetype": "text/x-python",
   "name": "python",
   "nbconvert_exporter": "python",
   "pygments_lexer": "ipython3",
   "version": "3.12.7"
  }
 },
 "nbformat": 4,
 "nbformat_minor": 2
}
