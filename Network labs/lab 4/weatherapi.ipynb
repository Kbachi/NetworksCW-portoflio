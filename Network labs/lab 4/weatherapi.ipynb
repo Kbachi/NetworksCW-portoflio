{
 "cells": [
  {
   "cell_type": "code",
   "execution_count": null,
   "metadata": {},
   "outputs": [],
   "source": [
    "import socket\n",
    "import requests\n",
    "import threading\n",
    "\n",
    "# Function to fetch weather data from Open-Meteo API\n",
    "def fetch_weather_data():\n",
    "    try:\n",
    "        response = requests.get(\"https://api.open-meteo.com/v1/forecast?latitude=51.4742&longitude=-0.0355&current_weather=true\")\n",
    "        if response.status_code == 200:\n",
    "            data = response.json()\n",
    "            weather_data = data[\"current_weather\"] if \"current_weather\" in data else {}\n",
    "            temperature = weather_data[\"temperature\"] if \"temperature\" in weather_data else \"N/A\"\n",
    "            wind_speed = weather_data[\"windspeed\"] if \"windspeed\" in weather_data else \"N/A\"\n",
    "            condition = weather_data[\"weathercode\"] if \"weathercode\" in weather_data else \"N/A\"\n",
    "            return f\"Goldsmiths University - Temp: {temperature}°C, Wind Speed: {wind_speed} km/h, Condition Code: {condition}\"\n",
    "        else:\n",
    "            return \"Failed to fetch weather data\"\n",
    "    except:\n",
    "        return \"Error occurred while fetching weather data\"\n",
    "\n",
    "# TCP Server - Handles incoming weather data requests\n",
    "def tcp_server():\n",
    "    s = socket.socket(socket.AF_INET, socket.SOCK_STREAM)\n",
    "    s.bind(('localhost', 65436))\n",
    "    s.listen(5)\n",
    "    print(\"Server running...\")\n",
    "    while True:\n",
    "        c, addr = s.accept()\n",
    "        print(f\"Connected to {addr}\")\n",
    "        c.send(fetch_weather_data().encode())\n",
    "        c.close()\n",
    "\n",
    "# Run server in a separate thread\n",
    "threading.Thread(target=tcp_server, daemon=True).start()\n",
    "\n",
    "# TCP Client - Requests weather data\n",
    "def tcp_client():\n",
    "    s = socket.socket(socket.AF_INET, socket.SOCK_STREAM)\n",
    "    s.connect(('localhost', 65436))\n",
    "    print(\"Received Weather Info: \" + s.recv(1024).decode())\n",
    "    s.close()\n",
    "\n",
    "# Example usage\n",
    "tcp_client()\n"
   ]
  }
 ],
 "metadata": {
  "language_info": {
   "name": "python"
  }
 },
 "nbformat": 4,
 "nbformat_minor": 2
}
