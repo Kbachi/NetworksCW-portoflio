{
 "cells": [
  {
   "cell_type": "code",
   "execution_count": null,
   "metadata": {},
   "outputs": [],
   "source": [
    "import random\n",
    "\n",
    "# aloha\n",
    "def simulate_slotted_aloha(n_nodes, p, n_slots):\n",
    "    successes = 0\n",
    "    for _ in range(n_slots):\n",
    "        transmissions = 0\n",
    "        for _ in range(n_nodes):\n",
    "            if random.random() < p:\n",
    "                transmissions += 1\n",
    "        if transmissions == 1:\n",
    "            successes += 1\n",
    "    return successes / n_slots  # Efficiency calculation\n",
    "\n",
    "# Simulation Parameters\n",
    "n_nodes = 50  # Number of nodes\n",
    "transmission_probs = [x / 20 for x in range(21)]  # Transmission probability values (0 to 1 in steps of 0.05)\n",
    "\n",
    "# Run simulation and print results\n",
    "efficiencies = []\n",
    "for prob in transmission_probs:\n",
    "    efficiencies.append(simulate_slotted_aloha(n_nodes, prob, 10000))\n",
    "    print(f\"Transmission Probability: {prob:.2f}, Efficiency: {efficiencies[-1]:.4f}\")"
   ]
  }
 ],
 "metadata": {
  "kernelspec": {
   "display_name": "base",
   "language": "python",
   "name": "python3"
  },
  "language_info": {
   "name": "python",
   "version": "3.12.7"
  }
 },
 "nbformat": 4,
 "nbformat_minor": 2
}
