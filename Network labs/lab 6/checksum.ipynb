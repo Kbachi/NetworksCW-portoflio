{
 "cells": [
  {
   "cell_type": "code",
   "execution_count": null,
   "metadata": {},
   "outputs": [],
   "source": [
    "# One's Complement Checksum - Error Detection\n",
    "\n",
    "def ones_complement_sum(a, b, bit_size=16):\n",
    "    \"\"\"Perform one's complement addition of two numbers.\"\"\"\n",
    "    result = a + b\n",
    "    if result >= (1 << bit_size):  # overflow\n",
    "        result = (result + 1) & ((1 << bit_size) - 1)  # Wrap around carry\n",
    "    return result\n",
    "\n",
    "def calculate_checksum(data, bit_size=16):\n",
    "    \"\"\"Compute one's complement checksum for a list of integers.\"\"\"\n",
    "    checksum = 0\n",
    "    for word in data:\n",
    "        checksum = ones_complement_sum(checksum, word, bit_size)\n",
    "    return ~checksum & ((1 << bit_size) - 1)  # One's complement\n",
    "\n",
    "def verify_checksum(data, received_checksum, bit_size=16):\n",
    "    \"\"\"Verify the checksum by adding it to the computed sum.\"\"\"\n",
    "    total = 0\n",
    "    for word in data:\n",
    "        total = ones_complement_sum(total, word, bit_size)\n",
    "    total = ones_complement_sum(total, received_checksum, bit_size)\n",
    "    return total == (1 << bit_size) - 1  # Valid if all bits are 1\n",
    "\n",
    "# Example \n",
    "data = [0b1010101010101010, 0b1100110011001100, 0b1111000011110000]  # Example\n",
    "checksum = calculate_checksum(data)\n",
    "print(f\"Calculated Checksum: {bin(checksum)}\")\n",
    "\n",
    "# Verification\n",
    "is_valid = verify_checksum(data, checksum)\n",
    "print(\"Checksum is valid\" if is_valid else \"Checksum is invalid\")\n"
   ]
  }
 ],
 "metadata": {
  "language_info": {
   "name": "python"
  }
 },
 "nbformat": 4,
 "nbformat_minor": 2
}
