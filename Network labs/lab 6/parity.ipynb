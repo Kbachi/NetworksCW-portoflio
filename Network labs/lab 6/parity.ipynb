{
 "cells": [
  {
   "cell_type": "code",
   "execution_count": null,
   "metadata": {},
   "outputs": [],
   "source": [
    "# Parity Check error\n",
    "import random\n",
    "\n",
    "def compute_even_parity(data):\n",
    "    return sum(data) % 2\n",
    "\n",
    "def check_parity(data):\n",
    "    return sum(data) % 2 == 0\n",
    "\n",
    "def simulate_parity_error(data, error_index):\n",
    "    data_with_error = data.copy()\n",
    "    data_with_error[error_index] = 1 - data_with_error[error_index]\n",
    "    return data_with_error\n",
    "\n",
    "#  Data\n",
    "data = [1, 0, 1, 0, 1, 1, 0, 0]\n",
    "parity_bit = compute_even_parity(data)\n",
    "transmitted_data = data + [parity_bit]\n",
    "\n",
    "print(\"Original Data:\", data)\n",
    "print(\"Computed Parity Bit (Even):\", parity_bit)\n",
    "print(\"Transmitted Data (Data + Parity):\", transmitted_data)\n",
    "\n",
    "# Simulate Error \n",
    "error_index = random.randint(0, len(transmitted_data) - 1)\n",
    "data_with_error = simulate_parity_error(transmitted_data, error_index)\n",
    "print(\"\\nData with Error Introduced at index\", error_index, \":\", data_with_error)\n",
    "\n",
    "# Parity Check\n",
    "if check_parity(data_with_error):\n",
    "    print(\"\\nNo error detected (Parity Check Passed)\")\n",
    "else:\n",
    "    print(\"\\nError detected (Parity Check Failed)\")\n"
   ]
  }
 ],
 "metadata": {
  "language_info": {
   "name": "python"
  }
 },
 "nbformat": 4,
 "nbformat_minor": 2
}
